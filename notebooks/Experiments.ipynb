{
 "cells": [
  {
   "cell_type": "markdown",
   "metadata": {},
   "source": [
    "## Experiments "
   ]
  },
  {
   "cell_type": "code",
   "execution_count": 1,
   "metadata": {},
   "outputs": [
    {
     "name": "stdout",
     "output_type": "stream",
     "text": [
      "Requirement already satisfied: blobfile in /local/data1/pathi619/MyCondaInstall/lib/python3.8/site-packages/blobfile-2.0.0-py3.8.egg (2.0.0)\n",
      "Requirement already satisfied: pycryptodomex~=3.8 in /local/data1/pathi619/MyCondaInstall/lib/python3.8/site-packages/pycryptodomex-3.15.0-py3.8-linux-x86_64.egg (from blobfile) (3.15.0)\n",
      "Requirement already satisfied: urllib3~=1.25 in /local/data1/pathi619/MyCondaInstall/lib/python3.8/site-packages (from blobfile) (1.26.12)\n",
      "Requirement already satisfied: lxml~=4.9 in /local/data1/pathi619/MyCondaInstall/lib/python3.8/site-packages/lxml-4.9.1-py3.8-linux-x86_64.egg (from blobfile) (4.9.1)\n",
      "Requirement already satisfied: filelock~=3.0 in /local/data1/pathi619/MyCondaInstall/lib/python3.8/site-packages/filelock-3.8.0-py3.8.egg (from blobfile) (3.8.0)\n"
     ]
    }
   ],
   "source": [
    "!pip install blobfile"
   ]
  },
  {
   "cell_type": "code",
   "execution_count": 2,
   "metadata": {},
   "outputs": [],
   "source": [
    "import numpy"
   ]
  },
  {
   "cell_type": "code",
   "execution_count": null,
   "metadata": {},
   "outputs": [],
   "source": []
  }
 ],
 "metadata": {
  "kernelspec": {
   "display_name": "Python 3.8.13",
   "language": "python",
   "name": "python3"
  },
  "language_info": {
   "codemirror_mode": {
    "name": "ipython",
    "version": 3
   },
   "file_extension": ".py",
   "mimetype": "text/x-python",
   "name": "python",
   "nbconvert_exporter": "python",
   "pygments_lexer": "ipython3",
   "version": "3.8.13"
  },
  "orig_nbformat": 4,
  "vscode": {
   "interpreter": {
    "hash": "0c42884e0e10cf9946dd4afd164e5d13bfa64e934c31f70dd827f47345dca31d"
   }
  }
 },
 "nbformat": 4,
 "nbformat_minor": 2
}
