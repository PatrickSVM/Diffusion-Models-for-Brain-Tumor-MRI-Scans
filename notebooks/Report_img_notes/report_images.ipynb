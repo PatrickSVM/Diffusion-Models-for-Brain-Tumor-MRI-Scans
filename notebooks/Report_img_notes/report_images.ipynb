{
 "cells": [
  {
   "cell_type": "code",
   "execution_count": null,
   "metadata": {},
   "outputs": [],
   "source": [
    "import pandas as pd\n",
    "import matplotlib.pyplot as plt"
   ]
  },
  {
   "cell_type": "code",
   "execution_count": null,
   "metadata": {},
   "outputs": [],
   "source": [
    "# Next training use log 1\n",
    "exp_3_first = pd.read_csv(\"../Checkpoints/Checkpoint_TwoChan_Exp_3/progress_old_10k.csv\")\n",
    "exp_3_sec = pd.read_csv(\"../Checkpoints/Checkpoint_TwoChan_Exp_3/progress_old_20k.csv\")\n",
    "exp_3_third = pd.read_csv(\"../Checkpoints/Checkpoint_TwoChan_Exp_3/progress_old_30k.csv\")\n",
    "exp_3_fourth = pd.read_csv(\"../Checkpoints/Checkpoint_TwoChan_Exp_3/progress_old_50k.csv\")\n",
    "exp_3_fifth = pd.read_csv(\"../Checkpoints/Checkpoint_TwoChan_Exp_3/progress.csv\")\n",
    "exp_3 = pd.concat([exp_3_first, exp_3_sec, exp_3_third, exp_3_fourth, exp_3_fifth]).reset_index()\n",
    "\n",
    "exp_2_first = pd.read_csv(\"../Checkpoints/Checkpoint_TwoChan_Exp_2/progress_old_60k.csv\")\n",
    "exp_2_sec = pd.read_csv(\"../Checkpoints/Checkpoint_TwoChan_Exp_2/progress_old_110k.csv\")\n",
    "exp_2_third = pd.read_csv(\"../Checkpoints/Checkpoint_TwoChan_Exp_2/progress_old_170k.csv\")\n",
    "exp_2_fourth = pd.read_csv(\"../Checkpoints/Checkpoint_TwoChan_Exp_2/progress.csv\")\n",
    "exp_2 = pd.concat([exp_2_first, exp_2_sec, exp_2_third, exp_2_fourth]).reset_index()"
   ]
  }
 ],
 "metadata": {
  "language_info": {
   "name": "python"
  },
  "orig_nbformat": 4
 },
 "nbformat": 4,
 "nbformat_minor": 2
}
